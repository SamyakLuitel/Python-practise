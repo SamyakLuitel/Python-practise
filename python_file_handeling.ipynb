{
 "cells": [
  {
   "cell_type": "code",
   "execution_count": 21,
   "metadata": {},
   "outputs": [],
   "source": [
    "d = open(\"chuck.txt\",\"w\")"
   ]
  },
  {
   "cell_type": "code",
   "execution_count": 22,
   "metadata": {},
   "outputs": [
    {
     "data": {
      "text/plain": [
       "1164"
      ]
     },
     "execution_count": 22,
     "metadata": {},
     "output_type": "execute_result"
    }
   ],
   "source": [
    "d.write('''WRITING PROGRAMS OR PROGRAMMING IS A VERY CREATIVE\n",
    "AND REWARDING ACTIVITY  YOU CAN WRITE PROGRAMS FOR\n",
    "MANY REASONS RANGING FROM MAKING YOUR LIVING TO SOLVING\n",
    "A DIFFICULT DATA ANALYSIS PROBLEM TO HAVING FUN TO HELPING\n",
    "SOMEONE ELSE SOLVE A PROBLEM  THIS BOOK ASSUMES THAT\n",
    "{\\EM EVERYONE} NEEDS TO KNOW HOW TO PROGRAM AND THAT ONCE\n",
    "YOU KNOW HOW TO PROGRAM, YOU WILL FIGURE OUT WHAT YOU WANT\n",
    "TO DO WITH YOUR NEWFOUND SKILLS\n",
    "\n",
    "WE ARE SURROUNDED IN OUR DAILY LIVES WITH COMPUTERS RANGING\n",
    "FROM LAPTOPS TO CELL PHONES  WE CAN THINK OF THESE COMPUTERS\n",
    "AS OUR PERSONAL ASSISTANTS WHO CAN TAKE CARE OF MANY THINGS\n",
    "ON OUR BEHALF  THE HARDWARE IN OUR CURRENT-DAY COMPUTERS\n",
    "IS ESSENTIALLY BUILT TO CONTINUOUSLY AS US THE QUESTION\n",
    "WHAT WOULD YOU LIKE ME TO DO NEXT\n",
    "\n",
    "OUR COMPUTERS ARE FAST AND HAVE VASTS AMOUNTS OF MEMORY AND\n",
    "COULD BE VERY HELPFUL TO US IF WE ONLY KNEW THE LANGUAGE TO\n",
    "SPEAK TO EXPLAIN TO THE COMPUTER WHAT WE WOULD LIKE IT TO\n",
    "DO NEXT IF WE KNEW THIS LANGUAGE WE COULD TELL THE\n",
    "COMPUTER TO DO TASKS ON OUR BEHALF THAT WERE REPTITIVE\n",
    "INTERESTINGLY, THE KINDS OF THINGS COMPUTERS CAN DO BEST\n",
    "ARE OFTEN THE KINDS OF THINGS THAT WE HUMANS FIND BORING\n",
    "AND MIND-NUMBING\n",
    "''')"
   ]
  },
  {
   "cell_type": "code",
   "execution_count": 38,
   "metadata": {},
   "outputs": [],
   "source": [
    "d=open(\"chuck.txt\",\"r\")"
   ]
  },
  {
   "cell_type": "code",
   "execution_count": 39,
   "metadata": {},
   "outputs": [
    {
     "name": "stdout",
     "output_type": "stream",
     "text": [
      "WRITING PROGRAMS OR PROGRAMMING IS A VERY CREATIVE\n",
      "AND REWARDING ACTIVITY  YOU CAN WRITE PROGRAMS FOR\n",
      "MANY REASONS RANGING FROM MAKING YOUR LIVING TO SOLVING\n",
      "A DIFFICULT DATA ANALYSIS PROBLEM TO HAVING FUN TO HELPING\n",
      "SOMEONE ELSE SOLVE A PROBLEM  THIS BOOK ASSUMES THAT\n",
      "{\\EM EVERYONE} NEEDS TO KNOW HOW TO PROGRAM AND THAT ONCE\n",
      "YOU KNOW HOW TO PROGRAM, YOU WILL FIGURE OUT WHAT YOU WANT\n",
      "TO DO WITH YOUR NEWFOUND SKILLS\n",
      "\n",
      "WE ARE SURROUNDED IN OUR DAILY LIVES WITH COMPUTERS RANGING\n",
      "FROM LAPTOPS TO CELL PHONES  WE CAN THINK OF THESE COMPUTERS\n",
      "AS OUR PERSONAL ASSISTANTS WHO CAN TAKE CARE OF MANY THINGS\n",
      "ON OUR BEHALF  THE HARDWARE IN OUR CURRENT-DAY COMPUTERS\n",
      "IS ESSENTIALLY BUILT TO CONTINUOUSLY AS US THE QUESTION\n",
      "WHAT WOULD YOU LIKE ME TO DO NEXT\n",
      "\n",
      "OUR COMPUTERS ARE FAST AND HAVE VASTS AMOUNTS OF MEMORY AND\n",
      "COULD BE VERY HELPFUL TO US IF WE ONLY KNEW THE LANGUAGE TO\n",
      "SPEAK TO EXPLAIN TO THE COMPUTER WHAT WE WOULD LIKE IT TO\n",
      "DO NEXT IF WE KNEW THIS LANGUAGE WE COULD TELL THE\n",
      "COMPUTER TO DO TASKS ON OUR BEHALF THAT WERE REPTITIVE\n",
      "INTERESTINGLY, THE KINDS OF THINGS COMPUTERS CAN DO BEST\n",
      "ARE OFTEN THE KINDS OF THINGS THAT WE HUMANS FIND BORING\n",
      "AND MIND-NUMBING\n"
     ]
    }
   ],
   "source": [
    "for i in d:\n",
    "    print (i.rstrip())"
   ]
  },
  {
   "cell_type": "code",
   "execution_count": 33,
   "metadata": {},
   "outputs": [
    {
     "name": "stdout",
     "output_type": "stream",
     "text": [
      "writing programs or programming is a very creative\n",
      "and rewarding activity  you can write programs for\n",
      "many reasons ranging from making your living to solving\n",
      "a difficult data analysis problem to having fun to helping\n",
      "someone else solve a problem  this book assumes that\n",
      "{\\em everyone} needs to know how to program and that once\n",
      "you know how to program, you will figure out what you want\n",
      "to do with your newfound skills\n",
      "\n",
      "we are surrounded in our daily lives with computers ranging\n",
      "from laptops to cell phones  we can think of these computers\n",
      "as our personal assistants who can take care of many things\n",
      "on our behalf  the hardware in our current-day computers\n",
      "is essentially built to continuously as us the question\n",
      "what would you like me to do next\n",
      "\n",
      "our computers are fast and have vasts amounts of memory and\n",
      "could be very helpful to us if we only knew the language to\n",
      "speak to explain to the computer what we would like it to\n",
      "do next if we knew this language we could tell the\n",
      "computer to do tasks on our behalf that were reptitive\n",
      "interestingly, the kinds of things computers can do best\n",
      "are often the kinds of things that we humans find boring\n",
      "and mind-numbing\n",
      "\n"
     ]
    }
   ],
   "source": []
  },
  {
   "cell_type": "code",
   "execution_count": null,
   "metadata": {},
   "outputs": [],
   "source": []
  }
 ],
 "metadata": {
  "kernelspec": {
   "display_name": "Python 3",
   "language": "python",
   "name": "python3"
  },
  "language_info": {
   "codemirror_mode": {
    "name": "ipython",
    "version": 3
   },
   "file_extension": ".py",
   "mimetype": "text/x-python",
   "name": "python",
   "nbconvert_exporter": "python",
   "pygments_lexer": "ipython3",
   "version": "3.7.4"
  }
 },
 "nbformat": 4,
 "nbformat_minor": 2
}
