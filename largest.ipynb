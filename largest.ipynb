{
 "cells": [
  {
   "cell_type": "code",
   "execution_count": null,
   "metadata": {},
   "outputs": [],
   "source": [
    "largest = None\n",
    "smallest = None\n",
    "while True:\n",
    "    num = input(\"Enter a number: \")\n",
    "    if num == \"done\" :\n",
    "        break\n",
    "        \n",
    "    try :\n",
    "        n = int(num)\n",
    "    except:\n",
    "        print (\"Invalid input\")\n",
    "    if largest == None:\n",
    "        largest = n\n",
    "    elif largest < n:\n",
    "        largest = n\n",
    "    if smallest == None:\n",
    "        smallest = n\n",
    "    elif smallest > n:\n",
    "        smallest = n\n",
    "        \n",
    "\n",
    "print(\"Maximum is\",largest)\n",
    "print(\"Minimum is \",smallest)\n",
    "\n"
   ]
  },
  {
   "cell_type": "code",
   "execution_count": null,
   "metadata": {},
   "outputs": [],
   "source": []
  }
 ],
 "metadata": {
  "kernelspec": {
   "display_name": "Python 3",
   "language": "python",
   "name": "python3"
  },
  "language_info": {
   "codemirror_mode": {
    "name": "ipython",
    "version": 3
   },
   "file_extension": ".py",
   "mimetype": "text/x-python",
   "name": "python",
   "nbconvert_exporter": "python",
   "pygments_lexer": "ipython3",
   "version": "3.7.4"
  }
 },
 "nbformat": 4,
 "nbformat_minor": 2
}
